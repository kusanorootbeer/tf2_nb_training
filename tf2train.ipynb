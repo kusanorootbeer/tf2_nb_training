{
  "nbformat": 4,
  "nbformat_minor": 0,
  "metadata": {
    "colab": {
      "name": "tf2train.ipynb",
      "provenance": [],
      "collapsed_sections": [],
      "toc_visible": true,
      "authorship_tag": "ABX9TyN5Ilxqy6QcJvXUWf79FZrW",
      "include_colab_link": true
    },
    "kernelspec": {
      "name": "python3",
      "display_name": "Python 3"
    },
    "accelerator": "GPU"
  },
  "cells": [
    {
      "cell_type": "markdown",
      "metadata": {
        "id": "view-in-github",
        "colab_type": "text"
      },
      "source": [
        "<a href=\"https://colab.research.google.com/github/kusanorootbeer/tf2_nb_traingin/blob/master/tf2train.ipynb\" target=\"_parent\"><img src=\"https://colab.research.google.com/assets/colab-badge.svg\" alt=\"Open In Colab\"/></a>"
      ]
    },
    {
      "cell_type": "markdown",
      "metadata": {
        "id": "9UN4O_gv7tal",
        "colab_type": "text"
      },
      "source": [
        "# Google drive mount"
      ]
    },
    {
      "cell_type": "code",
      "metadata": {
        "id": "DHq5dKkX666J",
        "colab_type": "code",
        "outputId": "9b0416cd-ab7b-4918-c7f2-5f7014ce7466",
        "colab": {
          "base_uri": "https://localhost:8080/",
          "height": 122
        }
      },
      "source": [
        "from google.colab import drive\n",
        "drive.mount('/content/drive')"
      ],
      "execution_count": 1,
      "outputs": [
        {
          "output_type": "stream",
          "text": [
            "Go to this URL in a browser: https://accounts.google.com/o/oauth2/auth?client_id=947318989803-6bn6qk8qdgf4n4g3pfee6491hc0brc4i.apps.googleusercontent.com&redirect_uri=urn%3aietf%3awg%3aoauth%3a2.0%3aoob&response_type=code&scope=email%20https%3a%2f%2fwww.googleapis.com%2fauth%2fdocs.test%20https%3a%2f%2fwww.googleapis.com%2fauth%2fdrive%20https%3a%2f%2fwww.googleapis.com%2fauth%2fdrive.photos.readonly%20https%3a%2f%2fwww.googleapis.com%2fauth%2fpeopleapi.readonly\n",
            "\n",
            "Enter your authorization code:\n",
            "··········\n",
            "Mounted at /content/drive\n"
          ],
          "name": "stdout"
        }
      ]
    },
    {
      "cell_type": "markdown",
      "metadata": {
        "id": "9D2ec2FObVil",
        "colab_type": "text"
      },
      "source": [
        "# tensorflow v2.1 install"
      ]
    },
    {
      "cell_type": "code",
      "metadata": {
        "colab_type": "code",
        "outputId": "2a6eac40-266c-46c4-e61b-9ffa292f41f2",
        "id": "Bk--6ZvMXYpD",
        "colab": {
          "base_uri": "https://localhost:8080/",
          "height": 632
        }
      },
      "source": [
        "!pip install tensorflow==2.1.0"
      ],
      "execution_count": 0,
      "outputs": [
        {
          "output_type": "stream",
          "text": [
            "Requirement already satisfied: tensorflow==2.1.0 in /usr/local/lib/python3.6/dist-packages (2.1.0)\n",
            "Requirement already satisfied: keras-applications>=1.0.8 in /usr/local/lib/python3.6/dist-packages (from tensorflow==2.1.0) (1.0.8)\n",
            "Requirement already satisfied: gast==0.2.2 in /usr/local/lib/python3.6/dist-packages (from tensorflow==2.1.0) (0.2.2)\n",
            "Requirement already satisfied: absl-py>=0.7.0 in /usr/local/lib/python3.6/dist-packages (from tensorflow==2.1.0) (0.9.0)\n",
            "Requirement already satisfied: google-pasta>=0.1.6 in /usr/local/lib/python3.6/dist-packages (from tensorflow==2.1.0) (0.1.8)\n",
            "Requirement already satisfied: keras-preprocessing>=1.1.0 in /usr/local/lib/python3.6/dist-packages (from tensorflow==2.1.0) (1.1.0)\n",
            "Requirement already satisfied: tensorboard<2.2.0,>=2.1.0 in /usr/local/lib/python3.6/dist-packages (from tensorflow==2.1.0) (2.1.0)\n",
            "Requirement already satisfied: protobuf>=3.8.0 in /usr/local/lib/python3.6/dist-packages (from tensorflow==2.1.0) (3.10.0)\n",
            "Requirement already satisfied: six>=1.12.0 in /usr/local/lib/python3.6/dist-packages (from tensorflow==2.1.0) (1.12.0)\n",
            "Requirement already satisfied: numpy<2.0,>=1.16.0 in /usr/local/lib/python3.6/dist-packages (from tensorflow==2.1.0) (1.17.5)\n",
            "Requirement already satisfied: wrapt>=1.11.1 in /usr/local/lib/python3.6/dist-packages (from tensorflow==2.1.0) (1.11.2)\n",
            "Requirement already satisfied: grpcio>=1.8.6 in /usr/local/lib/python3.6/dist-packages (from tensorflow==2.1.0) (1.15.0)\n",
            "Requirement already satisfied: astor>=0.6.0 in /usr/local/lib/python3.6/dist-packages (from tensorflow==2.1.0) (0.8.1)\n",
            "Requirement already satisfied: scipy==1.4.1; python_version >= \"3\" in /usr/local/lib/python3.6/dist-packages (from tensorflow==2.1.0) (1.4.1)\n",
            "Requirement already satisfied: tensorflow-estimator<2.2.0,>=2.1.0rc0 in /usr/local/lib/python3.6/dist-packages (from tensorflow==2.1.0) (2.1.0)\n",
            "Requirement already satisfied: opt-einsum>=2.3.2 in /usr/local/lib/python3.6/dist-packages (from tensorflow==2.1.0) (3.1.0)\n",
            "Requirement already satisfied: wheel>=0.26; python_version >= \"3\" in /usr/local/lib/python3.6/dist-packages (from tensorflow==2.1.0) (0.33.6)\n",
            "Requirement already satisfied: termcolor>=1.1.0 in /usr/local/lib/python3.6/dist-packages (from tensorflow==2.1.0) (1.1.0)\n",
            "Requirement already satisfied: h5py in /usr/local/lib/python3.6/dist-packages (from keras-applications>=1.0.8->tensorflow==2.1.0) (2.8.0)\n",
            "Requirement already satisfied: requests<3,>=2.21.0 in /usr/local/lib/python3.6/dist-packages (from tensorboard<2.2.0,>=2.1.0->tensorflow==2.1.0) (2.21.0)\n",
            "Requirement already satisfied: markdown>=2.6.8 in /usr/local/lib/python3.6/dist-packages (from tensorboard<2.2.0,>=2.1.0->tensorflow==2.1.0) (3.1.1)\n",
            "Requirement already satisfied: google-auth<2,>=1.6.3 in /usr/local/lib/python3.6/dist-packages (from tensorboard<2.2.0,>=2.1.0->tensorflow==2.1.0) (1.11.0)\n",
            "Requirement already satisfied: werkzeug>=0.11.15 in /usr/local/lib/python3.6/dist-packages (from tensorboard<2.2.0,>=2.1.0->tensorflow==2.1.0) (0.16.0)\n",
            "Requirement already satisfied: setuptools>=41.0.0 in /usr/local/lib/python3.6/dist-packages (from tensorboard<2.2.0,>=2.1.0->tensorflow==2.1.0) (42.0.2)\n",
            "Requirement already satisfied: google-auth-oauthlib<0.5,>=0.4.1 in /usr/local/lib/python3.6/dist-packages (from tensorboard<2.2.0,>=2.1.0->tensorflow==2.1.0) (0.4.1)\n",
            "Requirement already satisfied: certifi>=2017.4.17 in /usr/local/lib/python3.6/dist-packages (from requests<3,>=2.21.0->tensorboard<2.2.0,>=2.1.0->tensorflow==2.1.0) (2019.11.28)\n",
            "Requirement already satisfied: urllib3<1.25,>=1.21.1 in /usr/local/lib/python3.6/dist-packages (from requests<3,>=2.21.0->tensorboard<2.2.0,>=2.1.0->tensorflow==2.1.0) (1.24.3)\n",
            "Requirement already satisfied: idna<2.9,>=2.5 in /usr/local/lib/python3.6/dist-packages (from requests<3,>=2.21.0->tensorboard<2.2.0,>=2.1.0->tensorflow==2.1.0) (2.8)\n",
            "Requirement already satisfied: chardet<3.1.0,>=3.0.2 in /usr/local/lib/python3.6/dist-packages (from requests<3,>=2.21.0->tensorboard<2.2.0,>=2.1.0->tensorflow==2.1.0) (3.0.4)\n",
            "Requirement already satisfied: rsa<4.1,>=3.1.4 in /usr/local/lib/python3.6/dist-packages (from google-auth<2,>=1.6.3->tensorboard<2.2.0,>=2.1.0->tensorflow==2.1.0) (4.0)\n",
            "Requirement already satisfied: cachetools<5.0,>=2.0.0 in /usr/local/lib/python3.6/dist-packages (from google-auth<2,>=1.6.3->tensorboard<2.2.0,>=2.1.0->tensorflow==2.1.0) (4.0.0)\n",
            "Requirement already satisfied: pyasn1-modules>=0.2.1 in /usr/local/lib/python3.6/dist-packages (from google-auth<2,>=1.6.3->tensorboard<2.2.0,>=2.1.0->tensorflow==2.1.0) (0.2.7)\n",
            "Requirement already satisfied: requests-oauthlib>=0.7.0 in /usr/local/lib/python3.6/dist-packages (from google-auth-oauthlib<0.5,>=0.4.1->tensorboard<2.2.0,>=2.1.0->tensorflow==2.1.0) (1.3.0)\n",
            "Requirement already satisfied: pyasn1>=0.1.3 in /usr/local/lib/python3.6/dist-packages (from rsa<4.1,>=3.1.4->google-auth<2,>=1.6.3->tensorboard<2.2.0,>=2.1.0->tensorflow==2.1.0) (0.4.8)\n",
            "Requirement already satisfied: oauthlib>=3.0.0 in /usr/local/lib/python3.6/dist-packages (from requests-oauthlib>=0.7.0->google-auth-oauthlib<0.5,>=0.4.1->tensorboard<2.2.0,>=2.1.0->tensorflow==2.1.0) (3.1.0)\n"
          ],
          "name": "stdout"
        }
      ]
    },
    {
      "cell_type": "markdown",
      "metadata": {
        "id": "5GLn-OuhgDxe",
        "colab_type": "text"
      },
      "source": [
        "# get dataset"
      ]
    },
    {
      "cell_type": "code",
      "metadata": {
        "id": "HFiDB_Dud9gu",
        "colab_type": "code",
        "outputId": "e52561df-73e5-4ffe-c1a0-e73d8641acd4",
        "colab": {
          "base_uri": "https://localhost:8080/",
          "height": 1000
        }
      },
      "source": [
        "!wget http://archive.ics.uci.edu/ml/machine-learning-databases/00341/HAPT%20Data%20Set.zip .\n",
        "!mkdir drive/My\\ Drive/Dataset\n",
        "!unzip 'HAPT Data Set.zip' -d drive/My\\ Drive/Dataset\n",
        "!rm -rf  HAPT\\ Data\\ Set.zip"
      ],
      "execution_count": 0,
      "outputs": [
        {
          "output_type": "stream",
          "text": [
            "--2020-01-24 11:40:13--  http://archive.ics.uci.edu/ml/machine-learning-databases/00341/HAPT%20Data%20Set.zip\n",
            "Resolving archive.ics.uci.edu (archive.ics.uci.edu)... 128.195.10.252\n",
            "Connecting to archive.ics.uci.edu (archive.ics.uci.edu)|128.195.10.252|:80... connected.\n",
            "HTTP request sent, awaiting response... 200 OK\n",
            "Length: 79596192 (76M) [application/x-httpd-php]\n",
            "Saving to: ‘HAPT Data Set.zip’\n",
            "\n",
            "HAPT Data Set.zip   100%[===================>]  75.91M  10.6MB/s    in 8.1s    \n",
            "\n",
            "2020-01-24 11:40:21 (9.32 MB/s) - ‘HAPT Data Set.zip’ saved [79596192/79596192]\n",
            "\n",
            "--2020-01-24 11:40:21--  http://./\n",
            "Resolving . (.)... failed: No address associated with hostname.\n",
            "wget: unable to resolve host address ‘.’\n",
            "FINISHED --2020-01-24 11:40:21--\n",
            "Total wall clock time: 8.3s\n",
            "Downloaded: 1 files, 76M in 8.1s (9.32 MB/s)\n",
            "Archive:  HAPT Data Set.zip\n",
            "  inflating: drive/My Drive/Dataset/features_info.txt  \n",
            "  inflating: drive/My Drive/Dataset/README.txt  \n",
            "  inflating: drive/My Drive/Dataset/RawData/acc_exp01_user01.txt  \n",
            "  inflating: drive/My Drive/Dataset/RawData/acc_exp02_user01.txt  \n",
            "  inflating: drive/My Drive/Dataset/RawData/acc_exp03_user02.txt  \n",
            "  inflating: drive/My Drive/Dataset/RawData/acc_exp04_user02.txt  \n",
            "  inflating: drive/My Drive/Dataset/RawData/acc_exp05_user03.txt  \n",
            "  inflating: drive/My Drive/Dataset/RawData/acc_exp06_user03.txt  \n",
            "  inflating: drive/My Drive/Dataset/RawData/acc_exp07_user04.txt  \n",
            "  inflating: drive/My Drive/Dataset/RawData/acc_exp08_user04.txt  \n",
            "  inflating: drive/My Drive/Dataset/RawData/acc_exp09_user05.txt  \n",
            "  inflating: drive/My Drive/Dataset/RawData/acc_exp10_user05.txt  \n",
            "  inflating: drive/My Drive/Dataset/RawData/acc_exp11_user06.txt  \n",
            "  inflating: drive/My Drive/Dataset/RawData/acc_exp12_user06.txt  \n",
            "  inflating: drive/My Drive/Dataset/RawData/acc_exp13_user07.txt  \n",
            "  inflating: drive/My Drive/Dataset/RawData/acc_exp14_user07.txt  \n",
            "  inflating: drive/My Drive/Dataset/RawData/acc_exp15_user08.txt  \n",
            "  inflating: drive/My Drive/Dataset/RawData/acc_exp16_user08.txt  \n",
            "  inflating: drive/My Drive/Dataset/RawData/acc_exp17_user09.txt  \n",
            "  inflating: drive/My Drive/Dataset/RawData/acc_exp18_user09.txt  \n",
            "  inflating: drive/My Drive/Dataset/RawData/acc_exp19_user10.txt  \n",
            "  inflating: drive/My Drive/Dataset/RawData/acc_exp20_user10.txt  \n",
            "  inflating: drive/My Drive/Dataset/RawData/acc_exp21_user10.txt  \n",
            "  inflating: drive/My Drive/Dataset/RawData/acc_exp22_user11.txt  \n",
            "  inflating: drive/My Drive/Dataset/RawData/acc_exp23_user11.txt  \n",
            "  inflating: drive/My Drive/Dataset/RawData/acc_exp24_user12.txt  \n",
            "  inflating: drive/My Drive/Dataset/RawData/acc_exp25_user12.txt  \n",
            "  inflating: drive/My Drive/Dataset/RawData/acc_exp26_user13.txt  \n",
            "  inflating: drive/My Drive/Dataset/RawData/acc_exp27_user13.txt  \n",
            "  inflating: drive/My Drive/Dataset/RawData/acc_exp28_user14.txt  \n",
            "  inflating: drive/My Drive/Dataset/RawData/acc_exp29_user14.txt  \n",
            "  inflating: drive/My Drive/Dataset/RawData/acc_exp30_user15.txt  \n",
            "  inflating: drive/My Drive/Dataset/RawData/acc_exp31_user15.txt  \n",
            "  inflating: drive/My Drive/Dataset/RawData/acc_exp32_user16.txt  \n",
            "  inflating: drive/My Drive/Dataset/RawData/acc_exp33_user16.txt  \n",
            "  inflating: drive/My Drive/Dataset/RawData/acc_exp34_user17.txt  \n",
            "  inflating: drive/My Drive/Dataset/RawData/acc_exp35_user17.txt  \n",
            "  inflating: drive/My Drive/Dataset/RawData/acc_exp36_user18.txt  \n",
            "  inflating: drive/My Drive/Dataset/RawData/acc_exp37_user18.txt  \n",
            "  inflating: drive/My Drive/Dataset/RawData/acc_exp38_user19.txt  \n",
            "  inflating: drive/My Drive/Dataset/RawData/acc_exp39_user19.txt  \n",
            "  inflating: drive/My Drive/Dataset/RawData/acc_exp40_user20.txt  \n",
            "  inflating: drive/My Drive/Dataset/RawData/acc_exp41_user20.txt  \n",
            "  inflating: drive/My Drive/Dataset/RawData/acc_exp42_user21.txt  \n",
            "  inflating: drive/My Drive/Dataset/RawData/acc_exp43_user21.txt  \n",
            "  inflating: drive/My Drive/Dataset/RawData/acc_exp44_user22.txt  \n",
            "  inflating: drive/My Drive/Dataset/RawData/acc_exp45_user22.txt  \n",
            "  inflating: drive/My Drive/Dataset/RawData/acc_exp46_user23.txt  \n",
            "  inflating: drive/My Drive/Dataset/RawData/acc_exp47_user23.txt  \n",
            "  inflating: drive/My Drive/Dataset/RawData/acc_exp48_user24.txt  \n",
            "  inflating: drive/My Drive/Dataset/RawData/acc_exp49_user24.txt  \n",
            "  inflating: drive/My Drive/Dataset/RawData/acc_exp50_user25.txt  \n",
            "  inflating: drive/My Drive/Dataset/RawData/acc_exp51_user25.txt  \n",
            "  inflating: drive/My Drive/Dataset/RawData/acc_exp52_user26.txt  \n",
            "  inflating: drive/My Drive/Dataset/RawData/acc_exp53_user26.txt  \n",
            "  inflating: drive/My Drive/Dataset/RawData/acc_exp54_user27.txt  \n",
            "  inflating: drive/My Drive/Dataset/RawData/acc_exp55_user27.txt  \n",
            "  inflating: drive/My Drive/Dataset/RawData/acc_exp56_user28.txt  \n",
            "  inflating: drive/My Drive/Dataset/RawData/acc_exp57_user28.txt  \n",
            "  inflating: drive/My Drive/Dataset/RawData/acc_exp58_user29.txt  \n",
            "  inflating: drive/My Drive/Dataset/RawData/acc_exp59_user29.txt  \n",
            "  inflating: drive/My Drive/Dataset/RawData/acc_exp60_user30.txt  \n",
            "  inflating: drive/My Drive/Dataset/RawData/acc_exp61_user30.txt  \n",
            "  inflating: drive/My Drive/Dataset/RawData/gyro_exp01_user01.txt  \n",
            "  inflating: drive/My Drive/Dataset/RawData/gyro_exp02_user01.txt  \n",
            "  inflating: drive/My Drive/Dataset/RawData/gyro_exp03_user02.txt  \n",
            "  inflating: drive/My Drive/Dataset/RawData/gyro_exp04_user02.txt  \n",
            "  inflating: drive/My Drive/Dataset/RawData/gyro_exp05_user03.txt  \n",
            "  inflating: drive/My Drive/Dataset/RawData/gyro_exp06_user03.txt  \n",
            "  inflating: drive/My Drive/Dataset/RawData/gyro_exp07_user04.txt  \n",
            "  inflating: drive/My Drive/Dataset/RawData/gyro_exp08_user04.txt  \n",
            "  inflating: drive/My Drive/Dataset/RawData/gyro_exp09_user05.txt  \n",
            "  inflating: drive/My Drive/Dataset/RawData/gyro_exp10_user05.txt  \n",
            "  inflating: drive/My Drive/Dataset/RawData/gyro_exp11_user06.txt  \n",
            "  inflating: drive/My Drive/Dataset/RawData/gyro_exp12_user06.txt  \n",
            "  inflating: drive/My Drive/Dataset/RawData/gyro_exp13_user07.txt  \n",
            "  inflating: drive/My Drive/Dataset/RawData/gyro_exp14_user07.txt  \n",
            "  inflating: drive/My Drive/Dataset/RawData/gyro_exp15_user08.txt  \n",
            "  inflating: drive/My Drive/Dataset/RawData/gyro_exp16_user08.txt  \n",
            "  inflating: drive/My Drive/Dataset/RawData/gyro_exp17_user09.txt  \n",
            "  inflating: drive/My Drive/Dataset/RawData/gyro_exp18_user09.txt  \n",
            "  inflating: drive/My Drive/Dataset/RawData/gyro_exp19_user10.txt  \n",
            "  inflating: drive/My Drive/Dataset/RawData/gyro_exp20_user10.txt  \n",
            "  inflating: drive/My Drive/Dataset/RawData/gyro_exp21_user10.txt  \n",
            "  inflating: drive/My Drive/Dataset/RawData/gyro_exp22_user11.txt  \n",
            "  inflating: drive/My Drive/Dataset/RawData/gyro_exp23_user11.txt  \n",
            "  inflating: drive/My Drive/Dataset/RawData/gyro_exp24_user12.txt  \n",
            "  inflating: drive/My Drive/Dataset/RawData/gyro_exp25_user12.txt  \n",
            "  inflating: drive/My Drive/Dataset/RawData/gyro_exp26_user13.txt  \n",
            "  inflating: drive/My Drive/Dataset/RawData/gyro_exp27_user13.txt  \n",
            "  inflating: drive/My Drive/Dataset/RawData/gyro_exp28_user14.txt  \n",
            "  inflating: drive/My Drive/Dataset/RawData/gyro_exp29_user14.txt  \n",
            "  inflating: drive/My Drive/Dataset/RawData/gyro_exp30_user15.txt  \n",
            "  inflating: drive/My Drive/Dataset/RawData/gyro_exp31_user15.txt  \n",
            "  inflating: drive/My Drive/Dataset/RawData/gyro_exp32_user16.txt  \n",
            "  inflating: drive/My Drive/Dataset/RawData/gyro_exp33_user16.txt  \n",
            "  inflating: drive/My Drive/Dataset/RawData/gyro_exp34_user17.txt  \n",
            "  inflating: drive/My Drive/Dataset/RawData/gyro_exp35_user17.txt  \n",
            "  inflating: drive/My Drive/Dataset/RawData/gyro_exp36_user18.txt  \n",
            "  inflating: drive/My Drive/Dataset/RawData/gyro_exp37_user18.txt  \n",
            "  inflating: drive/My Drive/Dataset/RawData/gyro_exp38_user19.txt  \n",
            "  inflating: drive/My Drive/Dataset/RawData/gyro_exp39_user19.txt  \n",
            "  inflating: drive/My Drive/Dataset/RawData/gyro_exp40_user20.txt  \n",
            "  inflating: drive/My Drive/Dataset/RawData/gyro_exp41_user20.txt  \n",
            "  inflating: drive/My Drive/Dataset/RawData/gyro_exp42_user21.txt  \n",
            "  inflating: drive/My Drive/Dataset/RawData/gyro_exp43_user21.txt  \n",
            "  inflating: drive/My Drive/Dataset/RawData/gyro_exp44_user22.txt  \n",
            "  inflating: drive/My Drive/Dataset/RawData/gyro_exp45_user22.txt  \n",
            "  inflating: drive/My Drive/Dataset/RawData/gyro_exp46_user23.txt  \n",
            "  inflating: drive/My Drive/Dataset/RawData/gyro_exp47_user23.txt  \n",
            "  inflating: drive/My Drive/Dataset/RawData/gyro_exp48_user24.txt  \n",
            "  inflating: drive/My Drive/Dataset/RawData/gyro_exp49_user24.txt  \n",
            "  inflating: drive/My Drive/Dataset/RawData/gyro_exp50_user25.txt  \n",
            "  inflating: drive/My Drive/Dataset/RawData/gyro_exp51_user25.txt  \n",
            "  inflating: drive/My Drive/Dataset/RawData/gyro_exp52_user26.txt  \n",
            "  inflating: drive/My Drive/Dataset/RawData/gyro_exp53_user26.txt  \n",
            "  inflating: drive/My Drive/Dataset/RawData/gyro_exp54_user27.txt  \n",
            "  inflating: drive/My Drive/Dataset/RawData/gyro_exp55_user27.txt  \n",
            "  inflating: drive/My Drive/Dataset/RawData/gyro_exp56_user28.txt  \n",
            "  inflating: drive/My Drive/Dataset/RawData/gyro_exp57_user28.txt  \n",
            "  inflating: drive/My Drive/Dataset/RawData/gyro_exp58_user29.txt  \n",
            "  inflating: drive/My Drive/Dataset/RawData/gyro_exp59_user29.txt  \n",
            "  inflating: drive/My Drive/Dataset/RawData/gyro_exp60_user30.txt  \n",
            "  inflating: drive/My Drive/Dataset/RawData/gyro_exp61_user30.txt  \n",
            "  inflating: drive/My Drive/Dataset/RawData/labels.txt  \n",
            "  inflating: drive/My Drive/Dataset/Test/subject_id_test.txt  \n",
            "  inflating: drive/My Drive/Dataset/Test/X_test.txt  \n",
            "  inflating: drive/My Drive/Dataset/Test/y_test.txt  \n",
            "  inflating: drive/My Drive/Dataset/Train/subject_id_train.txt  \n",
            "  inflating: drive/My Drive/Dataset/Train/X_train.txt  \n",
            "  inflating: drive/My Drive/Dataset/Train/y_train.txt  \n",
            "  inflating: drive/My Drive/Dataset/activity_labels.txt  \n",
            "  inflating: drive/My Drive/Dataset/features.txt  \n"
          ],
          "name": "stdout"
        }
      ]
    },
    {
      "cell_type": "markdown",
      "metadata": {
        "id": "C_52-9izgPjT",
        "colab_type": "text"
      },
      "source": [
        "# model building"
      ]
    },
    {
      "cell_type": "markdown",
      "metadata": {
        "id": "h_lzQfpxo3Yv",
        "colab_type": "text"
      },
      "source": [
        "## import"
      ]
    },
    {
      "cell_type": "code",
      "metadata": {
        "id": "h2J8rFdkcgTF",
        "colab_type": "code",
        "outputId": "3caffd33-458f-4c68-a5bd-dc41c85e5f3a",
        "colab": {
          "base_uri": "https://localhost:8080/",
          "height": 51
        }
      },
      "source": [
        "%tensorflow_version 2.x\n",
        "import tensorflow as tf\n",
        "tf.__version__"
      ],
      "execution_count": 1,
      "outputs": [
        {
          "output_type": "stream",
          "text": [
            "TensorFlow 2.x selected.\n"
          ],
          "name": "stdout"
        },
        {
          "output_type": "execute_result",
          "data": {
            "text/plain": [
              "'2.1.0-rc1'"
            ]
          },
          "metadata": {
            "tags": []
          },
          "execution_count": 1
        }
      ]
    },
    {
      "cell_type": "code",
      "metadata": {
        "id": "1codE7lvefHD",
        "colab_type": "code",
        "colab": {}
      },
      "source": [
        "import tensorflow.keras as k\n",
        "import numpy as np\n",
        "import pandas as pd\n",
        "import os "
      ],
      "execution_count": 0,
      "outputs": []
    },
    {
      "cell_type": "markdown",
      "metadata": {
        "id": "wsWNpBeEo6GE",
        "colab_type": "text"
      },
      "source": [
        "## Data load"
      ]
    },
    {
      "cell_type": "code",
      "metadata": {
        "id": "JYJSB8OKh5e7",
        "colab_type": "code",
        "colab": {}
      },
      "source": [
        "path = \"/content/drive/My Drive/Dataset\"\n",
        "features_name = pd.read_csv(\"{}/features.txt\".format(path), header=None)\n",
        "activity_name = pd.read_csv(\"{}/activity_labels.txt\".format(path), header=None)\n",
        "train_x = np.loadtxt(\"{}/Train/X_train.txt\".format(path))\n",
        "train_y = np.loadtxt(\"{}/Train/y_train.txt\".format(path)) -1\n",
        "train_subject = np.loadtxt(\"{}/Train/subject_id_train.txt\".format(path))\n",
        "test_x = np.loadtxt(\"{}/Test/X_test.txt\".format(path))\n",
        "test_y = np.loadtxt(\"{}/Test/y_test.txt\".format(path)) -1\n",
        "test_subject = np.loadtxt(\"{}/Test/subject_id_test.txt\".format(path))"
      ],
      "execution_count": 0,
      "outputs": []
    },
    {
      "cell_type": "code",
      "metadata": {
        "id": "K96VaY1DuL5Z",
        "colab_type": "code",
        "colab": {}
      },
      "source": [
        "train_ds = tf.data.Dataset.from_tensor_slices((train_x, train_y)).shuffle(10000).batch(32)\n",
        "test_ds = tf.data.Dataset.from_tensor_slices((test_x, test_y)).batch(32)"
      ],
      "execution_count": 0,
      "outputs": []
    },
    {
      "cell_type": "markdown",
      "metadata": {
        "id": "B0qH1AWOpMuu",
        "colab_type": "text"
      },
      "source": [
        "## create model"
      ]
    },
    {
      "cell_type": "code",
      "metadata": {
        "id": "C3l1yCJ2iUXU",
        "colab_type": "code",
        "colab": {}
      },
      "source": [
        "class MLP_Classifier(tf.keras.Model):\n",
        "  def __init__(self):\n",
        "    super(MLP_Classifier, self).__init__()\n",
        "    self.fc1 = k.layers.Dense(300, activation=\"relu\")\n",
        "    self.fc2 = k.layers.Dense(100, activation=\"relu\")\n",
        "    self.fc3 = k.layers.Dense(50, activation=\"relu\")\n",
        "    self.out_put = k.layers.Dense(12, activation=\"softmax\")\n",
        "\n",
        "  def call(self, x):\n",
        "    x = self.fc1(x)\n",
        "    x = self.fc2(x)\n",
        "    x = self.fc3(x)\n",
        "    return self.out_put(x)\n",
        "\n",
        "model = MLP_Classifier()"
      ],
      "execution_count": 0,
      "outputs": []
    },
    {
      "cell_type": "code",
      "metadata": {
        "id": "SSreSVyMnll7",
        "colab_type": "code",
        "colab": {}
      },
      "source": [
        "loss_object = k.losses.SparseCategoricalCrossentropy()\n",
        "optimizer = k.optimizers.Adam()"
      ],
      "execution_count": 0,
      "outputs": []
    },
    {
      "cell_type": "code",
      "metadata": {
        "id": "G7Dt7yg1uw1S",
        "colab_type": "code",
        "colab": {}
      },
      "source": [
        "train_loss = k.metrics.Mean(name='train_loss')\n",
        "train_accuracy = k.metrics.SparseCategoricalAccuracy(name='train_accuracy')\n",
        "\n",
        "test_loss = k.metrics.Mean(name='test_loss')\n",
        "test_accuracy = k.metrics.SparseCategoricalAccuracy(name='test_accuracy')\n",
        "\n",
        "train_C_matrix = tf.math.confusion_matrix\n",
        "test_C_matrix = tf.math.confusion_matrix"
      ],
      "execution_count": 0,
      "outputs": []
    },
    {
      "cell_type": "code",
      "metadata": {
        "id": "XjXNsy6hvCQI",
        "colab_type": "code",
        "colab": {}
      },
      "source": [
        "@tf.function\n",
        "def train_step(features, labels):\n",
        "  with tf.GradientTape() as tape:\n",
        "    predictions = model(features)\n",
        "    loss = loss_object(labels, predictions)\n",
        "  gradients = tape.gradient(loss, model.trainable_variables)\n",
        "  optimizer.apply_gradients(zip(gradients, model.trainable_variables))\n",
        "\n",
        "  train_loss(loss)\n",
        "  train_accuracy(labels, predictions)\n",
        "  return train_C_matrix(labels, tf.math.argmax(predictions, axis=1), name=\"train_matrix\")"
      ],
      "execution_count": 0,
      "outputs": []
    },
    {
      "cell_type": "code",
      "metadata": {
        "id": "giUIS4QdvCaO",
        "colab_type": "code",
        "colab": {}
      },
      "source": [
        "@tf.function\n",
        "def test_step(features, labels):\n",
        "  predictions = model(features)\n",
        "  t_loss = loss_object(labels, predictions)\n",
        "\n",
        "  test_loss(t_loss)\n",
        "  test_accuracy(labels, predictions)\n",
        "  return test_C_matrix(labels, tf.math.argmax(predictions, axis=1), name=\"test_matrix\")"
      ],
      "execution_count": 0,
      "outputs": []
    },
    {
      "cell_type": "code",
      "metadata": {
        "id": "0GryM6rT_j2S",
        "colab_type": "code",
        "colab": {}
      },
      "source": [
        "@tf.function\n",
        "def eval_step(features, labels):\n",
        "  prediciont = model(features)\n",
        "  "
      ],
      "execution_count": 0,
      "outputs": []
    },
    {
      "cell_type": "code",
      "metadata": {
        "id": "noO_h9-4vSFQ",
        "colab_type": "code",
        "outputId": "97e8df02-0326-4258-d70e-c77c65c95686",
        "colab": {
          "base_uri": "https://localhost:8080/",
          "height": 479
        }
      },
      "source": [
        "EPOCHS = 20\n",
        "\n",
        "for epoch in range(EPOCHS):\n",
        "  for features, labels in train_ds:\n",
        "    train_mat =  train_step(features, labels)\n",
        "\n",
        "  for test_features, test_labels in test_ds:\n",
        "    test_mat = test_step(test_features, test_labels)\n",
        "\n",
        "  template = 'Epoch {}, Loss: {:.7}, Accuracy: {:.7}, Test Loss: {:.7}, Test Accuracy: {:.7}'\n",
        "  print (template.format(epoch+1, train_loss.result(), train_accuracy.result()*100, test_loss.result(), test_accuracy.result()*100))\n",
        "  # print(test_mat)\n",
        "  # print(train_mat)\n",
        "  # print(predictions)\n",
        "  \n",
        "  # reset metrics\n",
        "  train_loss.reset_states()\n",
        "  train_accuracy.reset_states()\n",
        "  test_loss.reset_states()\n",
        "  test_accuracy.reset_states()"
      ],
      "execution_count": 11,
      "outputs": [
        {
          "output_type": "stream",
          "text": [
            "WARNING:tensorflow:Layer mlp__classifier is casting an input tensor from dtype float64 to the layer's dtype of float32, which is new behavior in TensorFlow 2.  The layer has dtype float32 because it's dtype defaults to floatx.\n",
            "\n",
            "If you intended to run this layer in float32, you can safely ignore this warning. If in doubt, this warning is likely only an issue if you are porting a TensorFlow 1.X model to TensorFlow 2.\n",
            "\n",
            "To change all layers to have dtype float64 by default, call `tf.keras.backend.set_floatx('float64')`. To change just this layer, pass dtype='float64' to the layer constructor. If you are the author of this layer, you can disable autocasting by passing autocast=False to the base Layer constructor.\n",
            "\n",
            "Epoch 1, Loss: 0.5066722, Accuracy: 81.5244, Test Loss: 0.2924864, Test Accuracy: 87.57116\n",
            "Epoch 2, Loss: 0.2038591, Accuracy: 92.4295, Test Loss: 0.2568375, Test Accuracy: 90.41746\n",
            "Epoch 3, Loss: 0.1412918, Accuracy: 94.39938, Test Loss: 0.2595185, Test Accuracy: 90.3542\n",
            "Epoch 4, Loss: 0.1259761, Accuracy: 95.03025, Test Loss: 0.1855275, Test Accuracy: 93.04238\n",
            "Epoch 5, Loss: 0.132892, Accuracy: 94.51526, Test Loss: 0.2116889, Test Accuracy: 91.42948\n",
            "Epoch 6, Loss: 0.09901819, Accuracy: 96.12463, Test Loss: 0.2249868, Test Accuracy: 92.37824\n",
            "Epoch 7, Loss: 0.09011476, Accuracy: 96.21475, Test Loss: 0.2370781, Test Accuracy: 91.87223\n",
            "Epoch 8, Loss: 0.09922617, Accuracy: 96.04738, Test Loss: 0.2698482, Test Accuracy: 91.84061\n",
            "Epoch 9, Loss: 0.07693709, Accuracy: 97.03875, Test Loss: 0.259548, Test Accuracy: 90.51234\n",
            "Epoch 10, Loss: 0.08722135, Accuracy: 96.52376, Test Loss: 0.3177236, Test Accuracy: 88.4883\n",
            "Epoch 11, Loss: 0.09016835, Accuracy: 96.40788, Test Loss: 0.2397186, Test Accuracy: 92.50475\n",
            "Epoch 12, Loss: 0.07499865, Accuracy: 97.116, Test Loss: 0.2321818, Test Accuracy: 92.37824\n",
            "Epoch 13, Loss: 0.06174294, Accuracy: 97.54088, Test Loss: 0.2419704, Test Accuracy: 92.56799\n",
            "Epoch 14, Loss: 0.07818585, Accuracy: 96.80701, Test Loss: 0.4275101, Test Accuracy: 88.7413\n",
            "Epoch 15, Loss: 0.07528509, Accuracy: 97.05163, Test Loss: 0.2257337, Test Accuracy: 93.16888\n",
            "Epoch 16, Loss: 0.07002389, Accuracy: 97.33488, Test Loss: 0.3059108, Test Accuracy: 91.96711\n",
            "Epoch 17, Loss: 0.07287932, Accuracy: 96.97438, Test Loss: 0.2574511, Test Accuracy: 92.59962\n",
            "Epoch 18, Loss: 0.0583901, Accuracy: 97.74688, Test Loss: 0.2456458, Test Accuracy: 93.16888\n",
            "Epoch 19, Loss: 0.06278253, Accuracy: 97.86275, Test Loss: 0.2580552, Test Accuracy: 92.28336\n",
            "Epoch 20, Loss: 0.06885842, Accuracy: 97.23188, Test Loss: 0.2674361, Test Accuracy: 92.75775\n"
          ],
          "name": "stdout"
        }
      ]
    },
    {
      "cell_type": "code",
      "metadata": {
        "id": "aebulFOlXzUb",
        "colab_type": "code",
        "colab": {}
      },
      "source": [
        ""
      ],
      "execution_count": 0,
      "outputs": []
    }
  ]
}